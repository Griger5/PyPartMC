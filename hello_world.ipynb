{
  "nbformat": 4,
  "nbformat_minor": 0,
  "metadata": {
    "colab": {
      "name": "Untitled13.ipynb",
      "provenance": [],
      "collapsed_sections": []
    },
    "kernelspec": {
      "name": "python3",
      "display_name": "Python 3"
    },
    "language_info": {
      "name": "python"
    }
  },
  "cells": [
    {
      "cell_type": "code",
      "execution_count": null,
      "metadata": {
        "id": "PKc2aWbhOvzZ"
      },
      "outputs": [],
      "source": [
        "import sys\n",
        "if 'google.colab' in sys.modules:\n",
        "    !apt-get install libnetcdff-dev"
      ]
    },
    {
      "cell_type": "code",
      "source": [
        "!pip --verbose install git+https://github.com/slayoo/PyPartMC.git"
      ],
      "metadata": {
        "id": "iEavJeJoPWzg"
      },
      "execution_count": null,
      "outputs": []
    },
    {
      "cell_type": "code",
      "source": [
        "import PyPartMC"
      ],
      "metadata": {
        "id": "VnLSclLsOxRz"
      },
      "execution_count": null,
      "outputs": []
    },
    {
      "cell_type": "code",
      "source": [
        ""
      ],
      "metadata": {
        "id": "s2VeF72qPsKB"
      },
      "execution_count": null,
      "outputs": []
    }
  ]
}