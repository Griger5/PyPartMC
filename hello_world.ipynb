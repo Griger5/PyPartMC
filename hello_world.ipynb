{
  "nbformat": 4,
  "nbformat_minor": 0,
  "metadata": {
    "colab": {
      "name": "Untitled13.ipynb",
      "provenance": [],
      "collapsed_sections": []
    },
    "kernelspec": {
      "name": "python3",
      "display_name": "Python 3"
    },
    "language_info": {
      "name": "python"
    }
  },
  "cells": [
    {
      "cell_type": "code",
      "source": [
        "!pip --verbose install git+https://github.com/slayoo/PyPartMC.git"
      ],
      "metadata": {
        "id": "iEavJeJoPWzg"
      },
      "execution_count": null,
      "outputs": []
    },
    {
      "cell_type": "code",
      "source": [
        "import PyPartMC as ppmc"
      ],
      "metadata": {
        "id": "VnLSclLsOxRz"
      },
      "execution_count": null,
      "outputs": []
    },
    {
      "cell_type": "code",
      "source": [
        "ppmc.pow2_above(13)"
      ],
      "metadata": {
        "id": "s2VeF72qPsKB"
      },
      "execution_count": null,
      "outputs": []
    },
    {
      "cell_type": "code",
      "source": [
        ""
      ],
      "metadata": {
        "id": "I_kD6AomXW6h"
      },
      "execution_count": null,
      "outputs": []
    }
  ]
}
