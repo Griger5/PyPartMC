{
 "cells": [
  {
   "cell_type": "markdown",
   "id": "a9df06c7",
   "metadata": {},
   "source": [
    "[![nbviewer](https://raw.githubusercontent.com/jupyter/design/master/logos/Badges/nbviewer_badge.svg)](https://nbviewer.jupyter.org/github/open-atmos/PyPartMC/blob/main/examples/condense.ipynb)   \n",
    "[![Open In Colab](https://colab.research.google.com/assets/colab-badge.svg)](https://colab.research.google.com/github/open-atmos/PyPartMC/blob/main/examples/condense.ipynb)    \n",
    "[![Binder](https://mybinder.org/badge_logo.svg)](https://mybinder.org/v2/gh/open-atmos/PyPartMC.git/main?urlpath=lab/tree/examples/condense.ipynb)"
   ]
  },
  {
   "cell_type": "code",
   "execution_count": 1,
   "id": "9d04b1e0",
   "metadata": {},
   "outputs": [],
   "source": [
    "import sys\n",
    "if 'google.colab' in sys.modules:\n",
    "    !pip --verbose install git+https://github.com/open-atmos/PyPartMC.git"
   ]
  },
  {
   "cell_type": "code",
   "execution_count": 2,
   "id": "5c443a87",
   "metadata": {},
   "outputs": [],
   "source": [
    "import PyPartMC as ppmc\n",
    "from PyPartMC import si"
   ]
  },
  {
   "cell_type": "code",
   "execution_count": 3,
   "id": "207c8cb4",
   "metadata": {},
   "outputs": [],
   "source": [
    "gas_data = ppmc.GasData(\n",
    "    (\"H2SO4\", \"HNO3\", \"HCl\", \"NH3\", \"NO\", \"NO2\")\n",
    ")"
   ]
  },
  {
   "cell_type": "code",
   "execution_count": 4,
   "id": "fcdb1b51",
   "metadata": {},
   "outputs": [],
   "source": [
    "env_state = ppmc.EnvState({\n",
    "    \"rel_humidity\": 0.95,\n",
    "    \"latitude\": 0,\n",
    "    \"longitude\": 0,\n",
    "    \"altitude\": 0 * si.m,\n",
    "    \"start_time\": 81000 * si.s,\n",
    "    \"start_day\": 200\n",
    "})"
   ]
  },
  {
   "cell_type": "code",
   "execution_count": 5,
   "id": "f495cd58",
   "metadata": {},
   "outputs": [],
   "source": [
    "aero_data = ppmc.AeroData()"
   ]
  },
  {
   "cell_type": "code",
   "execution_count": 6,
   "id": "d06f46ef",
   "metadata": {},
   "outputs": [],
   "source": [
    "aero_state = ppmc.AeroState()"
   ]
  },
  {
   "cell_type": "code",
   "execution_count": 7,
   "id": "cd408ac0",
   "metadata": {},
   "outputs": [],
   "source": [
    "times = [0 * si.s, 1200 * si.s]\n",
    "null_gas = [{\"time\": [0 * si.s]}, {\"rate\": [1 / si.s]}]\n",
    "null_aero = [\n",
    "    {\"time\": [0 * si.s]},\n",
    "    {\"rate\": [0 / si.s]},\n",
    "    {\"dist\": {}}\n",
    "]\n",
    "\n",
    "scenario = ppmc.Scenario(gas_data, aero_data, {\n",
    "    \"temp_profile\": [\n",
    "        {\"time\": times},\n",
    "        {\"temp\": [290 * si.K, 280 * si.K]}\n",
    "    ],\n",
    "    \"pressure_profile\": [\n",
    "        {\"time\": times},\n",
    "        {\"pressure\": [1000 * si.hPa, 800 * si.hPa]}\n",
    "    ],\n",
    "    \"height_profile\": [\n",
    "        {\"time\": times},\n",
    "        {\"height\": [200 * si.m, 200 * si.m]}\n",
    "    ],\n",
    "    \"gas_emissions\": null_gas,\n",
    "    \"gas_background\": null_gas,\n",
    "    \"aero_emissions\": null_aero,\n",
    "    \"aero_background\": null_aero,\n",
    "    \"loss_function\": \"none\"\n",
    "})"
   ]
  },
  {
   "cell_type": "code",
   "execution_count": 8,
   "id": "9d18c29b",
   "metadata": {},
   "outputs": [],
   "source": [
    "run_part_opt = ppmc.RunPartOpt({})"
   ]
  },
  {
   "cell_type": "code",
   "execution_count": 9,
   "id": "2c5dbaaf",
   "metadata": {},
   "outputs": [],
   "source": [
    "# ppmc.run_part(\n",
    "#     scenario, env_state, aero_data, aero_state,\n",
    "#     gas_data, run_part_opt\n",
    "# )"
   ]
  },
  {
   "cell_type": "code",
   "execution_count": null,
   "id": "537d7690",
   "metadata": {},
   "outputs": [],
   "source": []
  }
 ],
 "metadata": {
  "kernelspec": {
   "display_name": "Python 3",
   "language": "python",
   "name": "python3"
  },
  "language_info": {
   "codemirror_mode": {
    "name": "ipython",
    "version": 3
   },
   "file_extension": ".py",
   "mimetype": "text/x-python",
   "name": "python",
   "nbconvert_exporter": "python",
   "pygments_lexer": "ipython3",
   "version": "3.9.1"
  }
 },
 "nbformat": 4,
 "nbformat_minor": 5
}
